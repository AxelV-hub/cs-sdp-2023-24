{
 "cells": [
  {
   "cell_type": "code",
   "execution_count": 1,
   "metadata": {},
   "outputs": [],
   "source": [
    "from models import HeuristicModel"
   ]
  },
  {
   "cell_type": "code",
   "execution_count": 2,
   "metadata": {},
   "outputs": [],
   "source": [
    "from data import Dataloader\n",
    "from clustering import apriori_clustering"
   ]
  },
  {
   "cell_type": "code",
   "execution_count": 3,
   "metadata": {},
   "outputs": [
    {
     "name": "stdout",
     "output_type": "stream",
     "text": [
      "Restricted license - for non-production use only - expires 2025-11-24\n"
     ]
    }
   ],
   "source": [
    "model = HeuristicModel(n_pieces=10, n_clusters=10)"
   ]
  },
  {
   "cell_type": "code",
   "execution_count": 4,
   "metadata": {},
   "outputs": [
    {
     "name": "stdout",
     "output_type": "stream",
     "text": [
      "(40002, 10)\n"
     ]
    }
   ],
   "source": [
    "data_loader = Dataloader(\"../data\\dataset_10\")\n",
    "X,Y = data_loader.load()\n",
    "print(X.shape)"
   ]
  },
  {
   "cell_type": "code",
   "execution_count": 5,
   "metadata": {},
   "outputs": [
    {
     "name": "stdout",
     "output_type": "stream",
     "text": [
      "[[0.13155  0.102793 0.266773 0.273273 0.482818 0.598529 0.443253 0.079392\n",
      "  0.696425 0.205184 0.093415 0.083068 0.392665 0.199638 0.129791 0.585744\n",
      "  0.736656 0.937219 0.48561  0.801121]\n",
      " [0.120267 0.269352 0.429823 0.063955 0.296841 0.374903 0.815812 0.088881\n",
      "  0.941223 0.299334 0.787381 0.051757 0.950979 0.134508 0.349574 0.14569\n",
      "  0.275172 0.636135 0.071517 0.103662]\n",
      " [0.063892 0.911273 0.806567 0.477722 0.400477 0.640737 0.026056 0.768162\n",
      "  0.062565 0.7225   0.98267  0.991958 0.785311 0.401361 0.718818 0.177645\n",
      "  0.978811 0.852587 0.94458  0.06482 ]\n",
      " [0.734527 0.932119 0.946412 0.693122 0.638768 0.451416 0.039001 0.615256\n",
      "  0.524477 0.334976 0.977782 0.021238 0.771218 0.127671 0.261262 0.709909\n",
      "  0.887967 0.219349 0.464368 0.056511]\n",
      " [0.776932 0.593198 0.591629 0.448716 0.139238 0.163546 0.010003 0.135006\n",
      "  0.932504 0.342746 0.520266 0.382247 0.139536 0.832946 0.495924 0.033919\n",
      "  0.171633 0.7364   0.151293 0.258412]]\n"
     ]
    },
    {
     "name": "stderr",
     "output_type": "stream",
     "text": [
      "c:\\Python310\\lib\\site-packages\\joblib\\externals\\loky\\backend\\context.py:136: UserWarning: Could not find the number of physical cores for the following reason:\n",
      "found 0 physical cores < 1\n",
      "Returning the number of logical cores instead. You can silence this warning by setting LOKY_MAX_CPU_COUNT to the number of cores you want to use.\n",
      "  warnings.warn(\n",
      "  File \"c:\\Python310\\lib\\site-packages\\joblib\\externals\\loky\\backend\\context.py\", line 282, in _count_physical_cores\n",
      "    raise ValueError(f\"found {cpu_count_physical} physical cores < 1\")\n"
     ]
    }
   ],
   "source": [
    "model.instantiate_clusters(X, Y)"
   ]
  },
  {
   "cell_type": "code",
   "execution_count": 7,
   "metadata": {},
   "outputs": [
    {
     "data": {
      "text/plain": [
       "{'X': array([[0.291893, 0.270336, 0.410368, ..., 0.250379, 0.235532, 0.879936],\n",
       "        [0.968584, 0.70873 , 0.676441, ..., 0.741024, 0.527833, 0.542889],\n",
       "        [0.415318, 0.029057, 0.952156, ..., 0.850537, 0.18163 , 0.650618],\n",
       "        ...,\n",
       "        [0.631934, 0.281161, 0.954128, ..., 0.575035, 0.589102, 0.273285],\n",
       "        [0.573564, 0.363958, 0.973274, ..., 0.946606, 0.65373 , 0.003297],\n",
       "        [0.891697, 0.554074, 0.02395 , ..., 0.038575, 0.27295 , 0.514695]]),\n",
       " 'Y': array([[0.090406, 0.830734, 0.825182, ..., 0.904169, 0.821689, 0.193834],\n",
       "        [0.683233, 0.535023, 0.704565, ..., 0.038843, 0.643085, 0.246867],\n",
       "        [0.637298, 0.895156, 0.747661, ..., 0.427081, 0.610155, 0.670037],\n",
       "        ...,\n",
       "        [0.222994, 0.151223, 0.991783, ..., 0.110315, 0.831385, 0.55085 ],\n",
       "        [0.154656, 0.415505, 0.957755, ..., 0.096861, 0.224984, 0.681627],\n",
       "        [0.243382, 0.704182, 0.87108 , ..., 0.215734, 0.565139, 0.2888  ]])}"
      ]
     },
     "execution_count": 7,
     "metadata": {},
     "output_type": "execute_result"
    }
   ],
   "source": [
    "model.clusters[0]"
   ]
  }
 ],
 "metadata": {
  "kernelspec": {
   "display_name": "Python 3",
   "language": "python",
   "name": "python3"
  },
  "language_info": {
   "codemirror_mode": {
    "name": "ipython",
    "version": 3
   },
   "file_extension": ".py",
   "mimetype": "text/x-python",
   "name": "python",
   "nbconvert_exporter": "python",
   "pygments_lexer": "ipython3",
   "version": "3.10.5"
  }
 },
 "nbformat": 4,
 "nbformat_minor": 2
}
